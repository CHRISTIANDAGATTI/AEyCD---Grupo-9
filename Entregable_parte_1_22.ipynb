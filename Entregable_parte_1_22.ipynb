{
  "cells": [
    {
      "cell_type": "markdown",
      "metadata": {
        "id": "view-in-github",
        "colab_type": "text"
      },
      "source": [
        "<a href=\"https://colab.research.google.com/github/CHRISTIANDAGATTI/AEyCD---Grupo-9/blob/main/Entregable_parte_1_22.ipynb\" target=\"_parent\"><img src=\"https://colab.research.google.com/assets/colab-badge.svg\" alt=\"Open In Colab\"/></a>"
      ]
    },
    {
      "cell_type": "markdown",
      "id": "e0ff301b-5595-4a0b-a2b8-3d5609a0485d",
      "metadata": {
        "id": "e0ff301b-5595-4a0b-a2b8-3d5609a0485d"
      },
      "source": [
        "**Diplomatura en Ciencia de Datos, Aprendizaje Automático y sus Aplicaciones**\n",
        "\n",
        "**Exploración y Curación de Datos**\n",
        "\n",
        "*Edición 2022*\n",
        "\n",
        "----\n",
        "\n",
        "# Trabajo práctico entregable - parte 1\n",
        "\n",
        "En esta notebook, vamos a cargar el conjunto de datos de [la compentencia Kaggle](https://www.kaggle.com/dansbecker/melbourne-housing-snapshot) sobre estimación de precios de ventas de propiedades en Melbourne, Australia.\n",
        "\n",
        "Utilizaremos el conjunto de datos reducido producido por [DanB](https://www.kaggle.com/dansbecker). Hemos subido una copia a un servidor de la Universidad Nacional de Córdoba para facilitar su acceso remoto."
      ]
    },
    {
      "cell_type": "code",
      "source": [
        "!pip install sqlalchemy"
      ],
      "metadata": {
        "colab": {
          "base_uri": "https://localhost:8080/"
        },
        "id": "47MbRr_lmbQn",
        "outputId": "587b0e40-9e71-4e9d-bee9-cd62bdc3830a"
      },
      "id": "47MbRr_lmbQn",
      "execution_count": 114,
      "outputs": [
        {
          "output_type": "stream",
          "name": "stdout",
          "text": [
            "Requirement already satisfied: sqlalchemy in /usr/local/lib/python3.7/dist-packages (1.4.36)\n",
            "Requirement already satisfied: importlib-metadata in /usr/local/lib/python3.7/dist-packages (from sqlalchemy) (4.11.3)\n",
            "Requirement already satisfied: greenlet!=0.4.17 in /usr/local/lib/python3.7/dist-packages (from sqlalchemy) (1.1.2)\n",
            "Requirement already satisfied: zipp>=0.5 in /usr/local/lib/python3.7/dist-packages (from importlib-metadata->sqlalchemy) (3.8.0)\n",
            "Requirement already satisfied: typing-extensions>=3.6.4 in /usr/local/lib/python3.7/dist-packages (from importlib-metadata->sqlalchemy) (4.2.0)\n"
          ]
        }
      ]
    },
    {
      "cell_type": "code",
      "source": [
        "!pip install decouple"
      ],
      "metadata": {
        "colab": {
          "base_uri": "https://localhost:8080/"
        },
        "id": "0OxS2DkNm5Ei",
        "outputId": "a6c5b9c6-b5f6-41cf-8bca-f091c0bc5c26"
      },
      "id": "0OxS2DkNm5Ei",
      "execution_count": 115,
      "outputs": [
        {
          "output_type": "stream",
          "name": "stdout",
          "text": [
            "Requirement already satisfied: decouple in /usr/local/lib/python3.7/dist-packages (0.0.7)\n"
          ]
        }
      ]
    },
    {
      "cell_type": "code",
      "source": [
        "!pip install missingno"
      ],
      "metadata": {
        "colab": {
          "base_uri": "https://localhost:8080/"
        },
        "id": "Kk8X0h7OQtpo",
        "outputId": "91d5f124-efb6-410d-ac97-7e4c2515bcf0"
      },
      "id": "Kk8X0h7OQtpo",
      "execution_count": 116,
      "outputs": [
        {
          "output_type": "stream",
          "name": "stdout",
          "text": [
            "Requirement already satisfied: missingno in /usr/local/lib/python3.7/dist-packages (0.5.1)\n",
            "Requirement already satisfied: seaborn in /usr/local/lib/python3.7/dist-packages (from missingno) (0.11.2)\n",
            "Requirement already satisfied: numpy in /usr/local/lib/python3.7/dist-packages (from missingno) (1.21.6)\n",
            "Requirement already satisfied: scipy in /usr/local/lib/python3.7/dist-packages (from missingno) (1.4.1)\n",
            "Requirement already satisfied: matplotlib in /usr/local/lib/python3.7/dist-packages (from missingno) (3.2.2)\n",
            "Requirement already satisfied: python-dateutil>=2.1 in /usr/local/lib/python3.7/dist-packages (from matplotlib->missingno) (2.8.2)\n",
            "Requirement already satisfied: cycler>=0.10 in /usr/local/lib/python3.7/dist-packages (from matplotlib->missingno) (0.11.0)\n",
            "Requirement already satisfied: kiwisolver>=1.0.1 in /usr/local/lib/python3.7/dist-packages (from matplotlib->missingno) (1.4.2)\n",
            "Requirement already satisfied: pyparsing!=2.0.4,!=2.1.2,!=2.1.6,>=2.0.1 in /usr/local/lib/python3.7/dist-packages (from matplotlib->missingno) (3.0.8)\n",
            "Requirement already satisfied: typing-extensions in /usr/local/lib/python3.7/dist-packages (from kiwisolver>=1.0.1->matplotlib->missingno) (4.2.0)\n",
            "Requirement already satisfied: six>=1.5 in /usr/local/lib/python3.7/dist-packages (from python-dateutil>=2.1->matplotlib->missingno) (1.15.0)\n",
            "Requirement already satisfied: pandas>=0.23 in /usr/local/lib/python3.7/dist-packages (from seaborn->missingno) (1.3.5)\n",
            "Requirement already satisfied: pytz>=2017.3 in /usr/local/lib/python3.7/dist-packages (from pandas>=0.23->seaborn->missingno) (2022.1)\n"
          ]
        }
      ]
    },
    {
      "cell_type": "code",
      "source": [
        "!pip install plotly"
      ],
      "metadata": {
        "colab": {
          "base_uri": "https://localhost:8080/"
        },
        "id": "R-dRNpRVQzaU",
        "outputId": "6be55f24-f97e-4530-8616-ba6f36873f5d"
      },
      "id": "R-dRNpRVQzaU",
      "execution_count": 117,
      "outputs": [
        {
          "output_type": "stream",
          "name": "stdout",
          "text": [
            "Requirement already satisfied: plotly in /usr/local/lib/python3.7/dist-packages (5.5.0)\n",
            "Requirement already satisfied: six in /usr/local/lib/python3.7/dist-packages (from plotly) (1.15.0)\n",
            "Requirement already satisfied: tenacity>=6.2.0 in /usr/local/lib/python3.7/dist-packages (from plotly) (8.0.1)\n"
          ]
        }
      ]
    },
    {
      "cell_type": "code",
      "source": [
        "!pip install config"
      ],
      "metadata": {
        "colab": {
          "base_uri": "https://localhost:8080/"
        },
        "id": "o7cJEbAdT3w7",
        "outputId": "72822693-2a5f-4626-aad8-2caec34824fb"
      },
      "id": "o7cJEbAdT3w7",
      "execution_count": 118,
      "outputs": [
        {
          "output_type": "stream",
          "name": "stdout",
          "text": [
            "Requirement already satisfied: config in /usr/local/lib/python3.7/dist-packages (0.5.1)\n"
          ]
        }
      ]
    },
    {
      "cell_type": "code",
      "execution_count": 119,
      "id": "f5ac98f7-51f3-4f91-ac49-60ef5fe249be",
      "metadata": {
        "id": "f5ac98f7-51f3-4f91-ac49-60ef5fe249be"
      },
      "outputs": [],
      "source": [
        "import matplotlib.pyplot as plt\n",
        "import numpy\n",
        "import pandas\n",
        "\n",
        "import seaborn\n",
        "seaborn.set_context('talk')\n",
        "\n",
        "\n",
        "import config\n",
        "from sqlalchemy import create_engine, text"
      ]
    },
    {
      "cell_type": "code",
      "execution_count": 120,
      "id": "ce478cbd-0f49-4f15-8dc5-1fe1a5b39f17",
      "metadata": {
        "id": "ce478cbd-0f49-4f15-8dc5-1fe1a5b39f17",
        "colab": {
          "base_uri": "https://localhost:8080/",
          "height": 36
        },
        "outputId": "5294d9d7-8524-4b3c-9d1c-4adb686de0b6"
      },
      "outputs": [
        {
          "output_type": "execute_result",
          "data": {
            "text/plain": [
              "'5.5.0'"
            ],
            "application/vnd.google.colaboratory.intrinsic+json": {
              "type": "string"
            }
          },
          "metadata": {},
          "execution_count": 120
        }
      ],
      "source": [
        "import plotly\n",
        "plotly.__version__\n",
        "# Make sure it's 4.14.3"
      ]
    },
    {
      "cell_type": "code",
      "execution_count": 121,
      "id": "5ba8bfd5-199a-4390-a5b4-11ec9669b3e1",
      "metadata": {
        "id": "5ba8bfd5-199a-4390-a5b4-11ec9669b3e1",
        "outputId": "8f3c788c-a0c7-460f-fb20-f1c2e2be6d3b",
        "colab": {
          "base_uri": "https://localhost:8080/",
          "height": 306
        }
      },
      "outputs": [
        {
          "output_type": "execute_result",
          "data": {
            "text/plain": [
              "       Suburb          Address  Rooms Type      Price Method SellerG  \\\n",
              "0  Abbotsford     85 Turner St      2    h  1480000.0      S  Biggin   \n",
              "1  Abbotsford  25 Bloomburg St      2    h  1035000.0      S  Biggin   \n",
              "2  Abbotsford     5 Charles St      3    h  1465000.0     SP  Biggin   \n",
              "\n",
              "        Date  Distance  Postcode  ...  Bathroom  Car  Landsize  BuildingArea  \\\n",
              "0  3/12/2016       2.5    3067.0  ...       1.0  1.0     202.0           NaN   \n",
              "1  4/02/2016       2.5    3067.0  ...       1.0  0.0     156.0          79.0   \n",
              "2  4/03/2017       2.5    3067.0  ...       2.0  0.0     134.0         150.0   \n",
              "\n",
              "   YearBuilt  CouncilArea Lattitude  Longtitude             Regionname  \\\n",
              "0        NaN        Yarra  -37.7996    144.9984  Northern Metropolitan   \n",
              "1     1900.0        Yarra  -37.8079    144.9934  Northern Metropolitan   \n",
              "2     1900.0        Yarra  -37.8093    144.9944  Northern Metropolitan   \n",
              "\n",
              "  Propertycount  \n",
              "0        4019.0  \n",
              "1        4019.0  \n",
              "2        4019.0  \n",
              "\n",
              "[3 rows x 21 columns]"
            ],
            "text/html": [
              "\n",
              "  <div id=\"df-f1d9921c-07b2-4fc2-b3c6-d5794d157cb7\">\n",
              "    <div class=\"colab-df-container\">\n",
              "      <div>\n",
              "<style scoped>\n",
              "    .dataframe tbody tr th:only-of-type {\n",
              "        vertical-align: middle;\n",
              "    }\n",
              "\n",
              "    .dataframe tbody tr th {\n",
              "        vertical-align: top;\n",
              "    }\n",
              "\n",
              "    .dataframe thead th {\n",
              "        text-align: right;\n",
              "    }\n",
              "</style>\n",
              "<table border=\"1\" class=\"dataframe\">\n",
              "  <thead>\n",
              "    <tr style=\"text-align: right;\">\n",
              "      <th></th>\n",
              "      <th>Suburb</th>\n",
              "      <th>Address</th>\n",
              "      <th>Rooms</th>\n",
              "      <th>Type</th>\n",
              "      <th>Price</th>\n",
              "      <th>Method</th>\n",
              "      <th>SellerG</th>\n",
              "      <th>Date</th>\n",
              "      <th>Distance</th>\n",
              "      <th>Postcode</th>\n",
              "      <th>...</th>\n",
              "      <th>Bathroom</th>\n",
              "      <th>Car</th>\n",
              "      <th>Landsize</th>\n",
              "      <th>BuildingArea</th>\n",
              "      <th>YearBuilt</th>\n",
              "      <th>CouncilArea</th>\n",
              "      <th>Lattitude</th>\n",
              "      <th>Longtitude</th>\n",
              "      <th>Regionname</th>\n",
              "      <th>Propertycount</th>\n",
              "    </tr>\n",
              "  </thead>\n",
              "  <tbody>\n",
              "    <tr>\n",
              "      <th>0</th>\n",
              "      <td>Abbotsford</td>\n",
              "      <td>85 Turner St</td>\n",
              "      <td>2</td>\n",
              "      <td>h</td>\n",
              "      <td>1480000.0</td>\n",
              "      <td>S</td>\n",
              "      <td>Biggin</td>\n",
              "      <td>3/12/2016</td>\n",
              "      <td>2.5</td>\n",
              "      <td>3067.0</td>\n",
              "      <td>...</td>\n",
              "      <td>1.0</td>\n",
              "      <td>1.0</td>\n",
              "      <td>202.0</td>\n",
              "      <td>NaN</td>\n",
              "      <td>NaN</td>\n",
              "      <td>Yarra</td>\n",
              "      <td>-37.7996</td>\n",
              "      <td>144.9984</td>\n",
              "      <td>Northern Metropolitan</td>\n",
              "      <td>4019.0</td>\n",
              "    </tr>\n",
              "    <tr>\n",
              "      <th>1</th>\n",
              "      <td>Abbotsford</td>\n",
              "      <td>25 Bloomburg St</td>\n",
              "      <td>2</td>\n",
              "      <td>h</td>\n",
              "      <td>1035000.0</td>\n",
              "      <td>S</td>\n",
              "      <td>Biggin</td>\n",
              "      <td>4/02/2016</td>\n",
              "      <td>2.5</td>\n",
              "      <td>3067.0</td>\n",
              "      <td>...</td>\n",
              "      <td>1.0</td>\n",
              "      <td>0.0</td>\n",
              "      <td>156.0</td>\n",
              "      <td>79.0</td>\n",
              "      <td>1900.0</td>\n",
              "      <td>Yarra</td>\n",
              "      <td>-37.8079</td>\n",
              "      <td>144.9934</td>\n",
              "      <td>Northern Metropolitan</td>\n",
              "      <td>4019.0</td>\n",
              "    </tr>\n",
              "    <tr>\n",
              "      <th>2</th>\n",
              "      <td>Abbotsford</td>\n",
              "      <td>5 Charles St</td>\n",
              "      <td>3</td>\n",
              "      <td>h</td>\n",
              "      <td>1465000.0</td>\n",
              "      <td>SP</td>\n",
              "      <td>Biggin</td>\n",
              "      <td>4/03/2017</td>\n",
              "      <td>2.5</td>\n",
              "      <td>3067.0</td>\n",
              "      <td>...</td>\n",
              "      <td>2.0</td>\n",
              "      <td>0.0</td>\n",
              "      <td>134.0</td>\n",
              "      <td>150.0</td>\n",
              "      <td>1900.0</td>\n",
              "      <td>Yarra</td>\n",
              "      <td>-37.8093</td>\n",
              "      <td>144.9944</td>\n",
              "      <td>Northern Metropolitan</td>\n",
              "      <td>4019.0</td>\n",
              "    </tr>\n",
              "  </tbody>\n",
              "</table>\n",
              "<p>3 rows × 21 columns</p>\n",
              "</div>\n",
              "      <button class=\"colab-df-convert\" onclick=\"convertToInteractive('df-f1d9921c-07b2-4fc2-b3c6-d5794d157cb7')\"\n",
              "              title=\"Convert this dataframe to an interactive table.\"\n",
              "              style=\"display:none;\">\n",
              "        \n",
              "  <svg xmlns=\"http://www.w3.org/2000/svg\" height=\"24px\"viewBox=\"0 0 24 24\"\n",
              "       width=\"24px\">\n",
              "    <path d=\"M0 0h24v24H0V0z\" fill=\"none\"/>\n",
              "    <path d=\"M18.56 5.44l.94 2.06.94-2.06 2.06-.94-2.06-.94-.94-2.06-.94 2.06-2.06.94zm-11 1L8.5 8.5l.94-2.06 2.06-.94-2.06-.94L8.5 2.5l-.94 2.06-2.06.94zm10 10l.94 2.06.94-2.06 2.06-.94-2.06-.94-.94-2.06-.94 2.06-2.06.94z\"/><path d=\"M17.41 7.96l-1.37-1.37c-.4-.4-.92-.59-1.43-.59-.52 0-1.04.2-1.43.59L10.3 9.45l-7.72 7.72c-.78.78-.78 2.05 0 2.83L4 21.41c.39.39.9.59 1.41.59.51 0 1.02-.2 1.41-.59l7.78-7.78 2.81-2.81c.8-.78.8-2.07 0-2.86zM5.41 20L4 18.59l7.72-7.72 1.47 1.35L5.41 20z\"/>\n",
              "  </svg>\n",
              "      </button>\n",
              "      \n",
              "  <style>\n",
              "    .colab-df-container {\n",
              "      display:flex;\n",
              "      flex-wrap:wrap;\n",
              "      gap: 12px;\n",
              "    }\n",
              "\n",
              "    .colab-df-convert {\n",
              "      background-color: #E8F0FE;\n",
              "      border: none;\n",
              "      border-radius: 50%;\n",
              "      cursor: pointer;\n",
              "      display: none;\n",
              "      fill: #1967D2;\n",
              "      height: 32px;\n",
              "      padding: 0 0 0 0;\n",
              "      width: 32px;\n",
              "    }\n",
              "\n",
              "    .colab-df-convert:hover {\n",
              "      background-color: #E2EBFA;\n",
              "      box-shadow: 0px 1px 2px rgba(60, 64, 67, 0.3), 0px 1px 3px 1px rgba(60, 64, 67, 0.15);\n",
              "      fill: #174EA6;\n",
              "    }\n",
              "\n",
              "    [theme=dark] .colab-df-convert {\n",
              "      background-color: #3B4455;\n",
              "      fill: #D2E3FC;\n",
              "    }\n",
              "\n",
              "    [theme=dark] .colab-df-convert:hover {\n",
              "      background-color: #434B5C;\n",
              "      box-shadow: 0px 1px 3px 1px rgba(0, 0, 0, 0.15);\n",
              "      filter: drop-shadow(0px 1px 2px rgba(0, 0, 0, 0.3));\n",
              "      fill: #FFFFFF;\n",
              "    }\n",
              "  </style>\n",
              "\n",
              "      <script>\n",
              "        const buttonEl =\n",
              "          document.querySelector('#df-f1d9921c-07b2-4fc2-b3c6-d5794d157cb7 button.colab-df-convert');\n",
              "        buttonEl.style.display =\n",
              "          google.colab.kernel.accessAllowed ? 'block' : 'none';\n",
              "\n",
              "        async function convertToInteractive(key) {\n",
              "          const element = document.querySelector('#df-f1d9921c-07b2-4fc2-b3c6-d5794d157cb7');\n",
              "          const dataTable =\n",
              "            await google.colab.kernel.invokeFunction('convertToInteractive',\n",
              "                                                     [key], {});\n",
              "          if (!dataTable) return;\n",
              "\n",
              "          const docLinkHtml = 'Like what you see? Visit the ' +\n",
              "            '<a target=\"_blank\" href=https://colab.research.google.com/notebooks/data_table.ipynb>data table notebook</a>'\n",
              "            + ' to learn more about interactive tables.';\n",
              "          element.innerHTML = '';\n",
              "          dataTable['output_type'] = 'display_data';\n",
              "          await google.colab.output.renderOutput(dataTable, element);\n",
              "          const docLink = document.createElement('div');\n",
              "          docLink.innerHTML = docLinkHtml;\n",
              "          element.appendChild(docLink);\n",
              "        }\n",
              "      </script>\n",
              "    </div>\n",
              "  </div>\n",
              "  "
            ]
          },
          "metadata": {},
          "execution_count": 121
        }
      ],
      "source": [
        "melb_df = pandas.read_csv(\n",
        "    'https://cs.famaf.unc.edu.ar/~mteruel/datasets/diplodatos/melb_data.csv')\n",
        "melb_df[:3]"
      ]
    },
    {
      "cell_type": "markdown",
      "id": "6cffe5bf-2498-498c-aa06-3e61422d91e6",
      "metadata": {
        "id": "6cffe5bf-2498-498c-aa06-3e61422d91e6"
      },
      "source": [
        "## Ejercicio 1 SQL: \n",
        "\n",
        "1. Crear una base de datos en SQLite utilizando la libreria [SQLalchemy](https://stackoverflow.com/questions/2268050/execute-sql-from-file-in-sqlalchemy).\n",
        "https://docs.sqlalchemy.org/en/14/core/engines.html#sqlite\n",
        "\n",
        "2. Ingestar los datos provistos en 'https://cs.famaf.unc.edu.ar/~mteruel/datasets/diplodatos/melb_data.csv' en una tabla y el dataset generado en clase con datos de airbnb y sus precios por codigo postal en otra.\n",
        "\n",
        "3. Implementar consultas en SQL que respondan con la siguiente información:\n",
        "\n",
        "    - cantidad de registros totales por ciudad.\n",
        "    - cantidad de registros totales por barrio y ciudad.\n",
        "\n",
        "4. Combinar los datasets de ambas tablas ingestadas utilizando el comando JOIN de SQL  para obtener un resultado similar a lo realizado con Pandas en clase.  \n",
        "\n"
      ]
    },
    {
      "cell_type": "markdown",
      "source": [
        ""
      ],
      "metadata": {
        "id": "56R3KOxxqoBb"
      },
      "id": "56R3KOxxqoBb"
    },
    {
      "cell_type": "markdown",
      "source": [
        "**1- Creación de base de datos:**"
      ],
      "metadata": {
        "id": "tWRNnO2BpxV2"
      },
      "id": "tWRNnO2BpxV2"
    },
    {
      "cell_type": "code",
      "source": [
        "engine = create_engine('sqlite:///sysarmy.sqlite3', echo=True)"
      ],
      "metadata": {
        "id": "XywZ3-8qZf87"
      },
      "id": "XywZ3-8qZf87",
      "execution_count": 122,
      "outputs": []
    },
    {
      "cell_type": "markdown",
      "source": [
        "**2- Creación de tablas:**"
      ],
      "metadata": {
        "id": "oOIMZyJeqgyo"
      },
      "id": "oOIMZyJeqgyo"
    },
    {
      "cell_type": "code",
      "source": [
        "melb_df.to_sql('Melbo', con=engine, if_exists=\"replace\")"
      ],
      "metadata": {
        "colab": {
          "base_uri": "https://localhost:8080/"
        },
        "id": "W9TPvG-Fc3k_",
        "outputId": "b17027f3-18d8-4568-f43e-617b31a315e3"
      },
      "id": "W9TPvG-Fc3k_",
      "execution_count": 123,
      "outputs": [
        {
          "output_type": "stream",
          "name": "stdout",
          "text": [
            "2022-05-15 03:21:30,896 INFO sqlalchemy.engine.Engine PRAGMA main.table_info(\"Melbo\")\n",
            "2022-05-15 03:21:30,897 INFO sqlalchemy.engine.Engine [raw sql] ()\n",
            "2022-05-15 03:21:30,900 INFO sqlalchemy.engine.Engine PRAGMA main.table_info(\"Melbo\")\n",
            "2022-05-15 03:21:30,902 INFO sqlalchemy.engine.Engine [raw sql] ()\n",
            "2022-05-15 03:21:30,907 INFO sqlalchemy.engine.Engine SELECT name FROM sqlite_master WHERE type='table' ORDER BY name\n",
            "2022-05-15 03:21:30,908 INFO sqlalchemy.engine.Engine [raw sql] ()\n",
            "2022-05-15 03:21:30,911 INFO sqlalchemy.engine.Engine PRAGMA main.table_info(\"Melbo\")\n",
            "2022-05-15 03:21:30,913 INFO sqlalchemy.engine.Engine [raw sql] ()\n",
            "2022-05-15 03:21:30,923 INFO sqlalchemy.engine.Engine SELECT sql FROM  (SELECT * FROM sqlite_master UNION ALL   SELECT * FROM sqlite_temp_master) WHERE name = ? AND type = 'table'\n",
            "2022-05-15 03:21:30,928 INFO sqlalchemy.engine.Engine [raw sql] ('Melbo',)\n",
            "2022-05-15 03:21:30,931 INFO sqlalchemy.engine.Engine PRAGMA main.foreign_key_list(\"Melbo\")\n",
            "2022-05-15 03:21:30,932 INFO sqlalchemy.engine.Engine [raw sql] ()\n",
            "2022-05-15 03:21:30,939 INFO sqlalchemy.engine.Engine PRAGMA temp.foreign_key_list(\"Melbo\")\n",
            "2022-05-15 03:21:30,941 INFO sqlalchemy.engine.Engine [raw sql] ()\n",
            "2022-05-15 03:21:30,946 INFO sqlalchemy.engine.Engine SELECT sql FROM  (SELECT * FROM sqlite_master UNION ALL   SELECT * FROM sqlite_temp_master) WHERE name = ? AND type = 'table'\n",
            "2022-05-15 03:21:30,948 INFO sqlalchemy.engine.Engine [raw sql] ('Melbo',)\n",
            "2022-05-15 03:21:30,950 INFO sqlalchemy.engine.Engine PRAGMA main.index_list(\"Melbo\")\n",
            "2022-05-15 03:21:30,952 INFO sqlalchemy.engine.Engine [raw sql] ()\n",
            "2022-05-15 03:21:30,954 INFO sqlalchemy.engine.Engine PRAGMA main.index_info(\"ix_Melbo_index\")\n",
            "2022-05-15 03:21:30,958 INFO sqlalchemy.engine.Engine [raw sql] ()\n",
            "2022-05-15 03:21:30,961 INFO sqlalchemy.engine.Engine PRAGMA main.index_list(\"Melbo\")\n",
            "2022-05-15 03:21:30,963 INFO sqlalchemy.engine.Engine [raw sql] ()\n",
            "2022-05-15 03:21:30,965 INFO sqlalchemy.engine.Engine PRAGMA main.index_info(\"ix_Melbo_index\")\n",
            "2022-05-15 03:21:30,967 INFO sqlalchemy.engine.Engine [raw sql] ()\n",
            "2022-05-15 03:21:30,969 INFO sqlalchemy.engine.Engine SELECT sql FROM  (SELECT * FROM sqlite_master UNION ALL   SELECT * FROM sqlite_temp_master) WHERE name = ? AND type = 'table'\n",
            "2022-05-15 03:21:30,971 INFO sqlalchemy.engine.Engine [raw sql] ('Melbo',)\n",
            "2022-05-15 03:21:30,973 INFO sqlalchemy.engine.Engine BEGIN (implicit)\n",
            "2022-05-15 03:21:30,975 INFO sqlalchemy.engine.Engine \n",
            "DROP TABLE \"Melbo\"\n",
            "2022-05-15 03:21:30,978 INFO sqlalchemy.engine.Engine [no key 0.00314s] ()\n",
            "2022-05-15 03:21:31,041 INFO sqlalchemy.engine.Engine COMMIT\n",
            "2022-05-15 03:21:31,048 INFO sqlalchemy.engine.Engine BEGIN (implicit)\n",
            "2022-05-15 03:21:31,052 INFO sqlalchemy.engine.Engine \n",
            "CREATE TABLE \"Melbo\" (\n",
            "\t\"index\" BIGINT, \n",
            "\t\"Suburb\" TEXT, \n",
            "\t\"Address\" TEXT, \n",
            "\t\"Rooms\" BIGINT, \n",
            "\t\"Type\" TEXT, \n",
            "\t\"Price\" FLOAT, \n",
            "\t\"Method\" TEXT, \n",
            "\t\"SellerG\" TEXT, \n",
            "\t\"Date\" TEXT, \n",
            "\t\"Distance\" FLOAT, \n",
            "\t\"Postcode\" FLOAT, \n",
            "\t\"Bedroom2\" FLOAT, \n",
            "\t\"Bathroom\" FLOAT, \n",
            "\t\"Car\" FLOAT, \n",
            "\t\"Landsize\" FLOAT, \n",
            "\t\"BuildingArea\" FLOAT, \n",
            "\t\"YearBuilt\" FLOAT, \n",
            "\t\"CouncilArea\" TEXT, \n",
            "\t\"Lattitude\" FLOAT, \n",
            "\t\"Longtitude\" FLOAT, \n",
            "\t\"Regionname\" TEXT, \n",
            "\t\"Propertycount\" FLOAT\n",
            ")\n",
            "\n",
            "\n",
            "2022-05-15 03:21:31,054 INFO sqlalchemy.engine.Engine [no key 0.00251s] ()\n",
            "2022-05-15 03:21:31,066 INFO sqlalchemy.engine.Engine CREATE INDEX \"ix_Melbo_index\" ON \"Melbo\" (\"index\")\n",
            "2022-05-15 03:21:31,067 INFO sqlalchemy.engine.Engine [no key 0.00109s] ()\n",
            "2022-05-15 03:21:31,077 INFO sqlalchemy.engine.Engine COMMIT\n",
            "2022-05-15 03:21:31,105 INFO sqlalchemy.engine.Engine BEGIN (implicit)\n",
            "2022-05-15 03:21:31,716 INFO sqlalchemy.engine.Engine INSERT INTO \"Melbo\" (\"index\", \"Suburb\", \"Address\", \"Rooms\", \"Type\", \"Price\", \"Method\", \"SellerG\", \"Date\", \"Distance\", \"Postcode\", \"Bedroom2\", \"Bathroom\", \"Car\", \"Landsize\", \"BuildingArea\", \"YearBuilt\", \"CouncilArea\", \"Lattitude\", \"Longtitude\", \"Regionname\", \"Propertycount\") VALUES (?, ?, ?, ?, ?, ?, ?, ?, ?, ?, ?, ?, ?, ?, ?, ?, ?, ?, ?, ?, ?, ?)\n",
            "2022-05-15 03:21:31,717 INFO sqlalchemy.engine.Engine [generated in 0.56082s] ((0, 'Abbotsford', '85 Turner St', 2, 'h', 1480000.0, 'S', 'Biggin', '3/12/2016', 2.5, 3067.0, 2.0, 1.0, 1.0, 202.0, None, None, 'Yarra', -37.7996, 144.9984, 'Northern Metropolitan', 4019.0), (1, 'Abbotsford', '25 Bloomburg St', 2, 'h', 1035000.0, 'S', 'Biggin', '4/02/2016', 2.5, 3067.0, 2.0, 1.0, 0.0, 156.0, 79.0, 1900.0, 'Yarra', -37.8079, 144.9934, 'Northern Metropolitan', 4019.0), (2, 'Abbotsford', '5 Charles St', 3, 'h', 1465000.0, 'SP', 'Biggin', '4/03/2017', 2.5, 3067.0, 3.0, 2.0, 0.0, 134.0, 150.0, 1900.0, 'Yarra', -37.8093, 144.9944, 'Northern Metropolitan', 4019.0), (3, 'Abbotsford', '40 Federation La', 3, 'h', 850000.0, 'PI', 'Biggin', '4/03/2017', 2.5, 3067.0, 3.0, 2.0, 1.0, 94.0, None, None, 'Yarra', -37.7969, 144.9969, 'Northern Metropolitan', 4019.0), (4, 'Abbotsford', '55a Park St', 4, 'h', 1600000.0, 'VB', 'Nelson', '4/06/2016', 2.5, 3067.0, 3.0, 1.0, 2.0, 120.0, 142.0, 2014.0, 'Yarra', -37.8072, 144.9941, 'Northern Metropolitan', 4019.0), (5, 'Abbotsford', '129 Charles St', 2, 'h', 941000.0, 'S', 'Jellis', '7/05/2016', 2.5, 3067.0, 2.0, 1.0, 0.0, 181.0, None, None, 'Yarra', -37.8041, 144.9953, 'Northern Metropolitan', 4019.0), (6, 'Abbotsford', '124 Yarra St', 3, 'h', 1876000.0, 'S', 'Nelson', '7/05/2016', 2.5, 3067.0, 4.0, 2.0, 0.0, 245.0, 210.0, 1910.0, 'Yarra', -37.8024, 144.9993, 'Northern Metropolitan', 4019.0), (7, 'Abbotsford', '98 Charles St', 2, 'h', 1636000.0, 'S', 'Nelson', '8/10/2016', 2.5, 3067.0, 2.0, 1.0, 2.0, 256.0, 107.0, 1890.0, 'Yarra', -37.806, 144.9954, 'Northern Metropolitan', 4019.0)  ... displaying 10 of 13580 total bound parameter sets ...  (13578, 'Williamstown', '96 Verdon St', 4, 'h', 2500000.0, 'PI', 'Sweeney', '26/08/2017', 6.8, 3016.0, 4.0, 1.0, 5.0, 866.0, 157.0, 1920.0, None, -37.85908, 144.89299, 'Western Metropolitan', 6380.0), (13579, 'Yarraville', '6 Agnes St', 4, 'h', 1285000.0, 'SP', 'Village', '26/08/2017', 6.3, 3013.0, 4.0, 1.0, 1.0, 362.0, 112.0, 1920.0, None, -37.81188, 144.88449, 'Western Metropolitan', 6543.0))\n",
            "2022-05-15 03:21:31,832 INFO sqlalchemy.engine.Engine COMMIT\n",
            "2022-05-15 03:21:31,854 INFO sqlalchemy.engine.Engine SELECT name FROM sqlite_master WHERE type='table' ORDER BY name\n",
            "2022-05-15 03:21:31,856 INFO sqlalchemy.engine.Engine [raw sql] ()\n"
          ]
        }
      ]
    },
    {
      "cell_type": "code",
      "source": [
        "interesting_cols = [\n",
        "  'description', 'neighborhood_overview',\n",
        "  'street', 'neighborhood', 'city', 'suburb', 'state', 'zipcode',\n",
        "  'price', 'weekly_price', 'monthly_price',\n",
        "  'latitude', 'longitude',\n",
        "]\n",
        "airbnb_df = pandas.read_csv(\n",
        "    'https://cs.famaf.unc.edu.ar/~mteruel/datasets/diplodatos/cleansed_listings_dec18.csv',\n",
        "    usecols=interesting_cols)"
      ],
      "metadata": {
        "colab": {
          "base_uri": "https://localhost:8080/"
        },
        "id": "A3xjRRv9qzJK",
        "outputId": "5c1ca30b-8756-487b-c8e2-f54b8c89a2e0"
      },
      "id": "A3xjRRv9qzJK",
      "execution_count": 124,
      "outputs": [
        {
          "output_type": "stream",
          "name": "stderr",
          "text": [
            "/usr/local/lib/python3.7/dist-packages/IPython/core/interactiveshell.py:2882: DtypeWarning: Columns (35) have mixed types.Specify dtype option on import or set low_memory=False.\n",
            "  exec(code_obj, self.user_global_ns, self.user_ns)\n"
          ]
        }
      ]
    },
    {
      "cell_type": "code",
      "source": [
        "airbnb_df.to_sql('Airbnb', con=engine, if_exists=\"replace\")"
      ],
      "metadata": {
        "colab": {
          "base_uri": "https://localhost:8080/"
        },
        "id": "BoGSgOgIu1MF",
        "outputId": "f3f79d6b-54bc-4f00-ede0-5fc78bd827b0"
      },
      "id": "BoGSgOgIu1MF",
      "execution_count": 125,
      "outputs": [
        {
          "output_type": "stream",
          "name": "stdout",
          "text": [
            "2022-05-15 03:21:38,466 INFO sqlalchemy.engine.Engine PRAGMA main.table_info(\"Airbnb\")\n",
            "2022-05-15 03:21:38,468 INFO sqlalchemy.engine.Engine [raw sql] ()\n",
            "2022-05-15 03:21:38,472 INFO sqlalchemy.engine.Engine PRAGMA main.table_info(\"Airbnb\")\n",
            "2022-05-15 03:21:38,475 INFO sqlalchemy.engine.Engine [raw sql] ()\n",
            "2022-05-15 03:21:38,478 INFO sqlalchemy.engine.Engine SELECT name FROM sqlite_master WHERE type='table' ORDER BY name\n",
            "2022-05-15 03:21:38,479 INFO sqlalchemy.engine.Engine [raw sql] ()\n",
            "2022-05-15 03:21:38,482 INFO sqlalchemy.engine.Engine PRAGMA main.table_info(\"Airbnb\")\n",
            "2022-05-15 03:21:38,484 INFO sqlalchemy.engine.Engine [raw sql] ()\n",
            "2022-05-15 03:21:38,488 INFO sqlalchemy.engine.Engine SELECT sql FROM  (SELECT * FROM sqlite_master UNION ALL   SELECT * FROM sqlite_temp_master) WHERE name = ? AND type = 'table'\n",
            "2022-05-15 03:21:38,490 INFO sqlalchemy.engine.Engine [raw sql] ('Airbnb',)\n",
            "2022-05-15 03:21:38,493 INFO sqlalchemy.engine.Engine PRAGMA main.foreign_key_list(\"Airbnb\")\n",
            "2022-05-15 03:21:38,494 INFO sqlalchemy.engine.Engine [raw sql] ()\n",
            "2022-05-15 03:21:38,496 INFO sqlalchemy.engine.Engine PRAGMA temp.foreign_key_list(\"Airbnb\")\n",
            "2022-05-15 03:21:38,497 INFO sqlalchemy.engine.Engine [raw sql] ()\n",
            "2022-05-15 03:21:38,498 INFO sqlalchemy.engine.Engine SELECT sql FROM  (SELECT * FROM sqlite_master UNION ALL   SELECT * FROM sqlite_temp_master) WHERE name = ? AND type = 'table'\n",
            "2022-05-15 03:21:38,500 INFO sqlalchemy.engine.Engine [raw sql] ('Airbnb',)\n",
            "2022-05-15 03:21:38,502 INFO sqlalchemy.engine.Engine PRAGMA main.index_list(\"Airbnb\")\n",
            "2022-05-15 03:21:38,503 INFO sqlalchemy.engine.Engine [raw sql] ()\n",
            "2022-05-15 03:21:38,505 INFO sqlalchemy.engine.Engine PRAGMA main.index_info(\"ix_Airbnb_index\")\n",
            "2022-05-15 03:21:38,506 INFO sqlalchemy.engine.Engine [raw sql] ()\n",
            "2022-05-15 03:21:38,508 INFO sqlalchemy.engine.Engine PRAGMA main.index_list(\"Airbnb\")\n",
            "2022-05-15 03:21:38,509 INFO sqlalchemy.engine.Engine [raw sql] ()\n",
            "2022-05-15 03:21:38,512 INFO sqlalchemy.engine.Engine PRAGMA main.index_info(\"ix_Airbnb_index\")\n",
            "2022-05-15 03:21:38,513 INFO sqlalchemy.engine.Engine [raw sql] ()\n",
            "2022-05-15 03:21:38,515 INFO sqlalchemy.engine.Engine SELECT sql FROM  (SELECT * FROM sqlite_master UNION ALL   SELECT * FROM sqlite_temp_master) WHERE name = ? AND type = 'table'\n",
            "2022-05-15 03:21:38,516 INFO sqlalchemy.engine.Engine [raw sql] ('Airbnb',)\n",
            "2022-05-15 03:21:38,519 INFO sqlalchemy.engine.Engine BEGIN (implicit)\n",
            "2022-05-15 03:21:38,520 INFO sqlalchemy.engine.Engine \n",
            "DROP TABLE \"Airbnb\"\n",
            "2022-05-15 03:21:38,521 INFO sqlalchemy.engine.Engine [no key 0.00129s] ()\n",
            "2022-05-15 03:21:38,964 INFO sqlalchemy.engine.Engine COMMIT\n",
            "2022-05-15 03:21:38,971 INFO sqlalchemy.engine.Engine BEGIN (implicit)\n",
            "2022-05-15 03:21:38,973 INFO sqlalchemy.engine.Engine \n",
            "CREATE TABLE \"Airbnb\" (\n",
            "\t\"index\" BIGINT, \n",
            "\tdescription TEXT, \n",
            "\tneighborhood_overview TEXT, \n",
            "\tstreet TEXT, \n",
            "\tneighborhood TEXT, \n",
            "\tcity TEXT, \n",
            "\tsuburb TEXT, \n",
            "\tstate TEXT, \n",
            "\tzipcode TEXT, \n",
            "\tlatitude FLOAT, \n",
            "\tlongitude FLOAT, \n",
            "\tprice BIGINT, \n",
            "\tweekly_price FLOAT, \n",
            "\tmonthly_price FLOAT\n",
            ")\n",
            "\n",
            "\n",
            "2022-05-15 03:21:38,977 INFO sqlalchemy.engine.Engine [no key 0.00425s] ()\n",
            "2022-05-15 03:21:38,994 INFO sqlalchemy.engine.Engine CREATE INDEX \"ix_Airbnb_index\" ON \"Airbnb\" (\"index\")\n",
            "2022-05-15 03:21:38,998 INFO sqlalchemy.engine.Engine [no key 0.00422s] ()\n",
            "2022-05-15 03:21:39,010 INFO sqlalchemy.engine.Engine COMMIT\n",
            "2022-05-15 03:21:39,044 INFO sqlalchemy.engine.Engine BEGIN (implicit)\n",
            "2022-05-15 03:21:39,653 INFO sqlalchemy.engine.Engine INSERT INTO \"Airbnb\" (\"index\", description, neighborhood_overview, street, neighborhood, city, suburb, state, zipcode, latitude, longitude, price, weekly_price, monthly_price) VALUES (?, ?, ?, ?, ?, ?, ?, ?, ?, ?, ?, ?, ?, ?)\n",
            "2022-05-15 03:21:39,654 INFO sqlalchemy.engine.Engine [generated in 0.56436s] ((0, 'House: Clean, New, Modern, Quite, Safe. 10Km from the City. Golf course, Tennis courts, bus stop & shops walking distance!! Rooms: Contains one queen ... (702 characters truncated) ... pproximately what your daily in and out hours might look like.  Note: There is a 5 year old fun loving dog who lives with us and is part of our famil', 'Very safe! Family oriented. Older age group.', 'Bulleen, VIC, Australia', 'Balwyn North', 'Manningham', 'Bulleen', 'VIC', '3105', -37.77268393, 145.0921328, 60, None, None), (1, \"A large air conditioned room with queen spring mattress bed in a vintage apartment. Located right outside is a tram to the city just 19 minutes away. ... (702 characters truncated) ... ou east to Bundoora and west to Pacoevale. The Lygon Street tram line that goes past Melbourne University is 10 minutes walk west and Sydney Road and\", \"This hip area is a crossroads between two great cultural strips of inner Northern Melbourne.  Located in East Brunswick, between High St, Northcote a ... (533 characters truncated) ... re three coffee places within 50metres, and the Lomond Hotel Pub right across the road has good live music and there's also a pizza place downstairs.\", 'Brunswick East, VIC, Australia', 'Brunswick', 'Moreland', 'Brunswick East', 'VIC', '3057', -37.76650512, 144.9807361, 35, 200.0, 803.0), (2, 'RIGHT IN THE HEART OF ST KILDA! It doesn\\'t get more central than this! A fabulous north facing balcony apartment that offers right in the heart of t ... (703 characters truncated) ... system with iPod dock & DVD/CD player Selection of books, magazines, DVDs, CDs Glass framed console/desk with lamp Bedroom with queen bed, hotel qual', 'A stay at our apartment means you can enjoy some of Melbourne’s best restaurants, bars, cafes, shopping, dining and night life, all at your doorstep. ... (288 characters truncated) ... ith the city skyline as a stunning backdrop. Our apartment is perfectly suited to those wanting an exclusive, authentic urban residential experience.', 'St Kilda, VIC, Australia', 'St Kilda', 'Port Phillip', 'St Kilda', 'VIC', '3182', -37.85975502, 144.9773691, 159, 1253.0, 4452.0), (3, \"Comfortable, relaxed house, a home away from  home! This is a shared house, you will be sharing with me, plus the occasional other guest. Rooms are l ... (702 characters truncated) ... om, watch a movie, or TV, or relax in the back yard. Guest's privacy will be respected at all times. If you need information and tips on where to go,\", 'This is a great neighbourhood – it is quiet, yet close to so many things. High Street, Northcote (hip bars, cafes and craft stores) are a 10 minute walk east; Sydney Road (ethnic delights and great food) is 8 minute drive west; city is 30 minutes by tram or train.', 'Thornbury, VIC, Australia', 'Thornbury', 'Darebin', 'Thornbury', 'VIC', '3071', -37.75897072, 144.9892279, 50, 250.0, 920.0), (4, 'We offer comfortable accommodation in Inner Melbourne in Clement House, a two storey Victorian built in 1888. Large double bedroom with balcony, priv ... (660 characters truncated) ... n smoking house with an outside courtyard for smokers. The rate for guests that stay for a week are heavily discounted and therefore very attractive.', None, 'St Kilda East, VIC, Australia', 'St Kilda East', 'Port Phillip', 'St Kilda East', 'VIC', '3183', -37.8645303, 144.9922379, 69, 400.0, 1900.0), (5, 'Please note: No booking will be accepted with children under the age of 13 years.  Accommodation is non smoking in apartment & on grounds.  All visit ... (702 characters truncated) ... om, toilet & living area with stereo and 32\" LCD TV. A second bedroom (Autumn Room) is available with another Queen size bed for extra travelers if r', 'Our street is quiet & secluded but within walking distance to almost anything you need.', 'Berwick, VIC, Australia', None, 'Casey', 'Berwick', 'VIC', '3806', -38.05725414, 145.3393561, 98, 540.0, None), (6, 'Easy to travel from and to the Airport; quiet and safe neighbourhood; a spacious and sunny room; backyard for sun baking; a friendly host who are eas ... (702 characters truncated) ... ovided here for your comfort is in a two bedroom unit with 100sqm backyard(my green garden). This bedroom is airy and bright with big windows. Your r', \"The neighbours are quiet and friendly,  please don't park the car on my driveway because one of our neighbours is doing shifting work as a nurse. There are plenty of space for parking in the guest parking bay and along the street for free.\", 'Reservoir, VIC, Australia', None, 'Darebin', 'Reservoir', 'VIC', '3073', -37.69729418, 145.0008156, 50, 335.0, 1400.0), (7, \"Comfortable and spacious room in an apartment close to the heart of Melbourne. High quality bedding and good sound proofing guarantees a good night's ... (702 characters truncated) ... take you right into the CBD, via Lonsdale Street and to Grattan Street, Melbourne University Tram 112 onto Collins Street Jolimont train station (10m\", \"MCG (15min walk) Rod Laver Arena Fitzroy Gardens Smith Street restaurants and bars (10min walk) Melbourne CBD  Parliament House St Vincent's Hospital (12min walk) The Royal Eye and Ear Hospital (11min walk) Keeping active while away: Pool Gym East Melbourne Tennis Club  Fitzroy Gardens\", 'East Melbourne, VIC, Australia', None, 'Melbourne', 'East Melbourne', 'VIC', '3002', -37.81026723, 144.98592, 100, None, None)  ... displaying 10 of 22895 total bound parameter sets ...  (22893, \"Immaculately presented and carefully maintained executive courtyard apartment, well spaced floor plan comprises a queen-sized bedroom with large mirr ... (702 characters truncated) ... Melbourne Exhibition and Convention Centres, (The Yarra's) Southbank Promenade (boasting an array of cafes, bars, restaurants and boutiques), The Cro\", \"A plethora of Melbourne highlights are just a few minutes walk away, including Melbourne Exhibition and Convention Centres, (The Yarra's) Southbank P ... (68 characters truncated) ... s), The Crown Casino Complex (offering a further array of dining, shopping and entertainment facilities), Clarendon Street South Melbourne's shopping\", 'Southbank, VIC, Australia', 'Southbank', 'Melbourne', 'Southbank', 'VIC', 3006.0, -37.8277951, 144.9549869, 130, None, None), (22894, \"An ENTIRE apartment unit ALL TO YOURSELF in Melbourne city, only a 5min walk to Melbourne Central and Queen Victoria Markets. Makes this cozy inner-c ... (702 characters truncated) ... s fully equipped and furnished  home is ready to go with: - Air Conditioning & heating  - Wireless internet (Pocket Wi-Fi) BEDROOM  - Queen sized bed\", None, 'Carlton, VIC, Australia', 'Carlton', 'Melbourne', 'Carlton', 'VIC', 3053.0, -37.80518635, 144.9623991, 179, None, None))\n",
            "2022-05-15 03:21:39,897 INFO sqlalchemy.engine.Engine COMMIT\n",
            "2022-05-15 03:21:39,984 INFO sqlalchemy.engine.Engine SELECT name FROM sqlite_master WHERE type='table' ORDER BY name\n",
            "2022-05-15 03:21:39,985 INFO sqlalchemy.engine.Engine [raw sql] ()\n"
          ]
        }
      ]
    },
    {
      "cell_type": "markdown",
      "source": [
        "**A traves de \"to_numeric\" llevamos todos los registros al mismo tipo de datos**"
      ],
      "metadata": {
        "id": "SJL_H97z1KVn"
      },
      "id": "SJL_H97z1KVn"
    },
    {
      "cell_type": "code",
      "source": [
        "airbnb_df['zipcode'] = pandas.to_numeric(airbnb_df.zipcode, errors='coerce')"
      ],
      "metadata": {
        "id": "Pmuot3UdzOyo"
      },
      "id": "Pmuot3UdzOyo",
      "execution_count": 126,
      "outputs": []
    },
    {
      "cell_type": "code",
      "source": [
        "airbnb_df.zipcode.value_counts().head(10)"
      ],
      "metadata": {
        "colab": {
          "base_uri": "https://localhost:8080/"
        },
        "id": "mp166b0LzT3F",
        "outputId": "ccf6f1cc-6b3a-4a10-8be5-aff66c518c81"
      },
      "id": "mp166b0LzT3F",
      "execution_count": 127,
      "outputs": [
        {
          "output_type": "execute_result",
          "data": {
            "text/plain": [
              "3000.0    3367\n",
              "3006.0    1268\n",
              "3182.0    1135\n",
              "3141.0     881\n",
              "3004.0     728\n",
              "3121.0     628\n",
              "3008.0     616\n",
              "3053.0     538\n",
              "3181.0     460\n",
              "3056.0     446\n",
              "Name: zipcode, dtype: int64"
            ]
          },
          "metadata": {},
          "execution_count": 127
        }
      ]
    },
    {
      "cell_type": "markdown",
      "source": [
        "**3. Consultas SQL:**"
      ],
      "metadata": {
        "id": "1dUg9hg4qv7O"
      },
      "id": "1dUg9hg4qv7O"
    },
    {
      "cell_type": "markdown",
      "source": [
        "**Cantidad de registros totales por ciudad:**\n"
      ],
      "metadata": {
        "id": "v31Y9a19vNBK"
      },
      "id": "v31Y9a19vNBK"
    },
    {
      "cell_type": "markdown",
      "source": [
        "(Guardamos strings en variables y luego pandas lo convierte en una sentencia sql)"
      ],
      "metadata": {
        "id": "4_IJk68Q5kl_"
      },
      "id": "4_IJk68Q5kl_"
    },
    {
      "cell_type": "code",
      "source": [
        "query1 = \"SELECT city, COUNT(*) FROM Airbnb GROUP BY city ORDER BY COUNT(city) desc\"\n",
        "query2 = \"SELECT city, neighborhood, COUNT(city) FROM Airbnb GROUP BY city, neighborhood  ORDER BY city\""
      ],
      "metadata": {
        "id": "DZzWZVyw5qlH"
      },
      "id": "DZzWZVyw5qlH",
      "execution_count": 128,
      "outputs": []
    },
    {
      "cell_type": "code",
      "source": [
        "with engine.connect() as con:\n",
        "      rs = con.execute(query1)\n",
        "      print(query1)\n",
        "      for row in rs:\n",
        "          print(row)"
      ],
      "metadata": {
        "colab": {
          "base_uri": "https://localhost:8080/"
        },
        "id": "5zyxQyjG5f-b",
        "outputId": "2ab155b6-4c8a-4e97-d0f4-74c8d86b2e75"
      },
      "id": "5zyxQyjG5f-b",
      "execution_count": 129,
      "outputs": [
        {
          "output_type": "stream",
          "name": "stdout",
          "text": [
            "2022-05-15 03:21:40,051 INFO sqlalchemy.engine.Engine SELECT city, COUNT(*) FROM Airbnb GROUP BY city ORDER BY COUNT(city) desc\n",
            "2022-05-15 03:21:40,054 INFO sqlalchemy.engine.Engine [raw sql] ()\n",
            "SELECT city, COUNT(*) FROM Airbnb GROUP BY city ORDER BY COUNT(city) desc\n",
            "('Melbourne', 7368)\n",
            "('Port Phillip', 2808)\n",
            "('Yarra', 2049)\n",
            "('Stonnington', 1621)\n",
            "('Moreland', 967)\n",
            "('Yarra Ranges', 771)\n",
            "('Darebin', 698)\n",
            "('Boroondara', 664)\n",
            "('Glen Eira', 631)\n",
            "('Whitehorse', 614)\n",
            "('Monash', 571)\n",
            "('Maribyrnong', 436)\n",
            "('Wyndham', 426)\n",
            "('Bayside', 375)\n",
            "('Moonee Valley', 344)\n",
            "('Manningham', 313)\n",
            "('Kingston', 309)\n",
            "('Hobsons Bay', 239)\n",
            "('Banyule', 203)\n",
            "('Frankston', 177)\n",
            "('Knox', 175)\n",
            "('Hume', 170)\n",
            "('Casey', 153)\n",
            "('Greater Dandenong', 147)\n",
            "('Whittlesea', 137)\n",
            "('Cardinia', 123)\n",
            "('Maroondah', 115)\n",
            "('Brimbank', 108)\n",
            "('Melton', 95)\n",
            "('Nillumbik', 88)\n"
          ]
        }
      ]
    },
    {
      "cell_type": "code",
      "source": [
        "\n",
        "with engine.connect() as con:\n",
        "      rs = con.execute(query2)\n",
        "      print(query2)\n",
        "      for row in rs:\n",
        "          print(row)"
      ],
      "metadata": {
        "colab": {
          "base_uri": "https://localhost:8080/"
        },
        "id": "g5hbKFmuIweg",
        "outputId": "d0295e4a-20a6-48bc-b5f0-6056fa70e0e5"
      },
      "id": "g5hbKFmuIweg",
      "execution_count": 130,
      "outputs": [
        {
          "output_type": "stream",
          "name": "stdout",
          "text": [
            "2022-05-15 03:21:40,110 INFO sqlalchemy.engine.Engine SELECT city, neighborhood, COUNT(city) FROM Airbnb GROUP BY city, neighborhood  ORDER BY city\n",
            "2022-05-15 03:21:40,115 INFO sqlalchemy.engine.Engine [raw sql] ()\n",
            "SELECT city, neighborhood, COUNT(city) FROM Airbnb GROUP BY city, neighborhood  ORDER BY city\n",
            "('Banyule', None, 174)\n",
            "('Banyule', 'Alphington', 16)\n",
            "('Banyule', 'Preston', 8)\n",
            "('Banyule', 'Thornbury', 5)\n",
            "('Bayside', None, 170)\n",
            "('Bayside', 'Bentleigh', 1)\n",
            "('Bayside', 'Brighton', 203)\n",
            "('Bayside', 'Elwood', 1)\n",
            "('Boroondara', None, 30)\n",
            "('Boroondara', 'Ashburton', 14)\n",
            "('Boroondara', 'Balwyn', 70)\n",
            "('Boroondara', 'Balwyn North', 40)\n",
            "('Boroondara', 'Camberwell', 82)\n",
            "('Boroondara', 'Canterbury', 24)\n",
            "('Boroondara', 'Glen Iris', 32)\n",
            "('Boroondara', 'Hawthorn', 261)\n",
            "('Boroondara', 'Kew', 109)\n",
            "('Boroondara', 'Malvern', 2)\n",
            "('Brimbank', None, 108)\n",
            "('Cardinia', None, 123)\n",
            "('Casey', None, 153)\n",
            "('Darebin', None, 112)\n",
            "('Darebin', 'Alphington', 22)\n",
            "('Darebin', 'Coburg', 4)\n",
            "('Darebin', 'Northcote', 303)\n",
            "('Darebin', 'Preston', 156)\n",
            "('Darebin', 'Thornbury', 101)\n",
            "('Frankston', None, 177)\n",
            "('Glen Eira', None, 33)\n",
            "('Glen Eira', 'Balaclava/Ripponlea', 2)\n",
            "('Glen Eira', 'Bentleigh', 84)\n",
            "('Glen Eira', 'Brighton', 2)\n",
            "('Glen Eira', 'Carnegie', 126)\n",
            "('Glen Eira', 'Caulfield', 299)\n",
            "('Glen Eira', 'Ormond/McKinnon', 46)\n",
            "('Glen Eira', 'St Kilda East', 39)\n",
            "('Greater Dandenong', None, 147)\n",
            "('Hobsons Bay', None, 90)\n",
            "('Hobsons Bay', 'Newport', 45)\n",
            "('Hobsons Bay', 'Spotswood/South Kingsville', 23)\n",
            "('Hobsons Bay', 'Williamstown', 75)\n",
            "('Hobsons Bay', 'Yarraville/Seddon', 6)\n",
            "('Hume', None, 170)\n",
            "('Kingston', None, 292)\n",
            "('Kingston', 'Bentleigh', 17)\n",
            "('Knox', None, 175)\n",
            "('Manningham', None, 296)\n",
            "('Manningham', 'Balwyn North', 17)\n",
            "('Maribyrnong', None, 57)\n",
            "('Maribyrnong', 'Footscray', 253)\n",
            "('Maribyrnong', 'Yarraville/Seddon', 126)\n",
            "('Maroondah', None, 115)\n",
            "('Melbourne', None, 241)\n",
            "('Melbourne', 'Brunswick', 7)\n",
            "('Melbourne', 'Carlton', 582)\n",
            "('Melbourne', 'Carlton North', 10)\n",
            "('Melbourne', 'Central Business District', 3726)\n",
            "('Melbourne', 'Docklands', 576)\n",
            "('Melbourne', 'East Melbourne', 180)\n",
            "('Melbourne', 'Flemington', 12)\n",
            "('Melbourne', 'Kensington', 107)\n",
            "('Melbourne', 'North Melbourne', 290)\n",
            "('Melbourne', 'Parkville', 85)\n",
            "('Melbourne', 'Port Melbourne', 8)\n",
            "('Melbourne', 'Prahran/Windsor', 35)\n",
            "('Melbourne', 'South Melbourne', 1)\n",
            "('Melbourne', 'South Wharf', 24)\n",
            "('Melbourne', 'South Yarra', 161)\n",
            "('Melbourne', 'Southbank', 1204)\n",
            "('Melbourne', 'West Melbourne', 119)\n",
            "('Melton', None, 95)\n",
            "('Monash', None, 516)\n",
            "('Monash', 'Ashburton', 4)\n",
            "('Monash', 'Bentleigh', 5)\n",
            "('Monash', 'Carnegie', 24)\n",
            "('Monash', 'Glen Iris', 5)\n",
            "('Monash', 'Malvern East', 17)\n",
            "('Moonee Valley', None, 144)\n",
            "('Moonee Valley', 'Brunswick', 33)\n",
            "('Moonee Valley', 'Flemington', 166)\n",
            "('Moonee Valley', 'Kensington', 1)\n",
            "('Moreland', None, 136)\n",
            "('Moreland', 'Brunswick', 681)\n",
            "('Moreland', 'Coburg', 144)\n",
            "('Moreland', 'Fitzroy North', 6)\n",
            "('Nillumbik', None, 88)\n",
            "('Port Phillip', None, 125)\n",
            "('Port Phillip', 'Albert Park', 74)\n",
            "('Port Phillip', 'Balaclava/Ripponlea', 141)\n",
            "('Port Phillip', 'Elwood', 308)\n",
            "('Port Phillip', 'Middle Park', 50)\n",
            "('Port Phillip', 'Port Melbourne', 243)\n",
            "('Port Phillip', 'Prahran/Windsor', 156)\n",
            "('Port Phillip', 'South Melbourne', 291)\n",
            "('Port Phillip', 'South Yarra', 133)\n",
            "('Port Phillip', 'Southbank', 44)\n",
            "('Port Phillip', 'St Kilda', 1082)\n",
            "('Port Phillip', 'St Kilda East', 159)\n",
            "('Port Phillip', 'Windsor', 2)\n",
            "('Stonnington', None, 62)\n",
            "('Stonnington', 'Armadale', 71)\n",
            "('Stonnington', 'Caulfield', 3)\n",
            "('Stonnington', 'Glen Iris', 44)\n",
            "('Stonnington', 'Malvern', 34)\n",
            "('Stonnington', 'Malvern East', 100)\n",
            "('Stonnington', 'Prahran', 257)\n",
            "('Stonnington', 'Prahran/Windsor', 4)\n",
            "('Stonnington', 'South Yarra', 759)\n",
            "('Stonnington', 'St Kilda', 3)\n",
            "('Stonnington', 'St Kilda East', 2)\n",
            "('Stonnington', 'Toorak', 117)\n",
            "('Stonnington', 'Windsor', 165)\n",
            "('Whitehorse', None, 574)\n",
            "('Whitehorse', 'Balwyn', 25)\n",
            "('Whitehorse', 'Balwyn North', 4)\n",
            "('Whitehorse', 'Camberwell', 10)\n",
            "('Whitehorse', 'Glen Iris', 1)\n",
            "('Whittlesea', None, 137)\n",
            "('Wyndham', None, 426)\n",
            "('Yarra', None, 76)\n",
            "('Yarra', 'Abbotsford', 254)\n",
            "('Yarra', 'Alphington', 16)\n",
            "('Yarra', 'Brunswick', 7)\n",
            "('Yarra', 'Burnley', 56)\n",
            "('Yarra', 'Carlton', 3)\n",
            "('Yarra', 'Carlton North', 128)\n",
            "('Yarra', 'Clifton Hill', 59)\n",
            "('Yarra', 'Collingwood', 283)\n",
            "('Yarra', 'East Melbourne', 8)\n",
            "('Yarra', 'Fitzroy', 381)\n",
            "('Yarra', 'Fitzroy North', 225)\n",
            "('Yarra', 'Northcote', 6)\n",
            "('Yarra', 'Richmond', 547)\n",
            "('Yarra Ranges', None, 771)\n"
          ]
        }
      ]
    },
    {
      "cell_type": "markdown",
      "source": [
        "**Cantidad de registros totales por barrio y ciudad:**"
      ],
      "metadata": {
        "id": "GsPLid6BFgqg"
      },
      "id": "GsPLid6BFgqg"
    },
    {
      "cell_type": "markdown",
      "source": [
        "**4.JOIN de Datasets por SQL:**"
      ],
      "metadata": {
        "id": "r5yGm_AVz0Sm"
      },
      "id": "r5yGm_AVz0Sm"
    },
    {
      "cell_type": "markdown",
      "source": [
        "Controlamos de que tengamos suficientes registros en común como para agregar información relevante a traves del JOIN por Código Postal."
      ],
      "metadata": {
        "id": "k8gSpNY65EFH"
      },
      "id": "k8gSpNY65EFH"
    },
    {
      "cell_type": "code",
      "source": [
        "intersection = numpy.intersect1d(\n",
        "    airbnb_df.zipcode.values, melb_df.Postcode.values, assume_unique=False)\n",
        "print(\"Airbnb unique zipcodes\", len(airbnb_df.zipcode.unique()))\n",
        "print(\"Sales unique zipcodes\", len(melb_df.Postcode.unique()))\n",
        "print(\"Common zipcodes\", len(intersection))"
      ],
      "metadata": {
        "colab": {
          "base_uri": "https://localhost:8080/"
        },
        "id": "QFXDje9G0rvu",
        "outputId": "5e6a1089-a635-48bb-a498-3e1c831174fc"
      },
      "id": "QFXDje9G0rvu",
      "execution_count": 131,
      "outputs": [
        {
          "output_type": "stream",
          "name": "stdout",
          "text": [
            "Airbnb unique zipcodes 248\n",
            "Sales unique zipcodes 198\n",
            "Common zipcodes 191\n"
          ]
        }
      ]
    },
    {
      "cell_type": "markdown",
      "source": [
        "Calculamos el porentaje de el total de registros de Postcode o Zipcode que interaccionan (cruzan) entre los distintos Dataset respecto el total de registros."
      ],
      "metadata": {
        "id": "TM0cEcugluLo"
      },
      "id": "TM0cEcugluLo"
    },
    {
      "cell_type": "code",
      "source": [
        "print('Records in Sales df with corresponding zipcode form Airbnb df',\n",
        "      melb_df.Postcode.isin(intersection).sum() / len(melb_df))\n",
        "print('Records in Airbnb df with corresponding zipcode form Sales df',\n",
        "      airbnb_df.zipcode.isin(intersection).sum() / len(airbnb_df))"
      ],
      "metadata": {
        "colab": {
          "base_uri": "https://localhost:8080/"
        },
        "id": "jDyZvNE149vK",
        "outputId": "9f9c2eee-05d9-4e20-9981-9c8a5a58e59a"
      },
      "id": "jDyZvNE149vK",
      "execution_count": 132,
      "outputs": [
        {
          "output_type": "stream",
          "name": "stdout",
          "text": [
            "Records in Sales df with corresponding zipcode form Airbnb df 0.9985272459499264\n",
            "Records in Airbnb df with corresponding zipcode form Sales df 0.9302904564315353\n"
          ]
        }
      ]
    },
    {
      "cell_type": "markdown",
      "source": [
        "Definimos columnas de interes del Dataset de Airbnb y calculamos ciertas métricas de los registros agrupados por Zipcode."
      ],
      "metadata": {
        "id": "DNTKo4Lgpzos"
      },
      "id": "DNTKo4Lgpzos"
    },
    {
      "cell_type": "code",
      "source": [
        "relevant_cols = ['price', 'weekly_price', 'monthly_price', 'zipcode']\n",
        "## Option 1\n",
        "# Pass a dictionary where the keys are the original columns to aggregate and\n",
        "# the values are the operations (or list of operations).\n",
        "airbnb_price_by_zipcode = airbnb_df[relevant_cols].groupby('zipcode')\\\n",
        "  .agg({'price': ['mean', 'count'], 'weekly_price': 'mean',\n",
        "        'monthly_price': 'mean'})\\\n",
        "  .reset_index()\n",
        "# Flatten the two level columns\n",
        "airbnb_price_by_zipcode.columns = [\n",
        "  ' '.join(col).strip()\n",
        "  for col in airbnb_price_by_zipcode.columns.values]\n",
        "# Rename columns\n",
        "airbnb_price_by_zipcode = airbnb_price_by_zipcode.rename(\n",
        "    columns={'price mean': 'airbnb_price_mean',\n",
        "             'price count': 'airbnb_record_count',\n",
        "             'weekly_price mean': 'airbnb_weekly_price_mean',\n",
        "             'monthly_price mean': 'airbnb_monthly_price_mean'}\n",
        ")"
      ],
      "metadata": {
        "id": "njKTUMiHpwT5"
      },
      "id": "njKTUMiHpwT5",
      "execution_count": 133,
      "outputs": []
    },
    {
      "cell_type": "code",
      "source": [
        "airbnb_price_by_zipcode.head()"
      ],
      "metadata": {
        "colab": {
          "base_uri": "https://localhost:8080/",
          "height": 206
        },
        "id": "KEQwIekts4Hg",
        "outputId": "0dcdca9a-58f8-44dd-972a-7a1423bd1b4c"
      },
      "id": "KEQwIekts4Hg",
      "execution_count": 134,
      "outputs": [
        {
          "output_type": "execute_result",
          "data": {
            "text/plain": [
              "   zipcode  airbnb_price_mean  airbnb_record_count  airbnb_weekly_price_mean  \\\n",
              "0   2010.0          40.000000                    1                       NaN   \n",
              "1   2134.0          50.000000                    1                       NaN   \n",
              "2   2582.0         104.000000                    1                       NaN   \n",
              "3   3000.0         150.504307                 3367                918.738956   \n",
              "4   3001.0         132.500000                    2                       NaN   \n",
              "\n",
              "   airbnb_monthly_price_mean  \n",
              "0                        NaN  \n",
              "1                        NaN  \n",
              "2                        NaN  \n",
              "3                3407.204651  \n",
              "4                        NaN  "
            ],
            "text/html": [
              "\n",
              "  <div id=\"df-2cc62f9f-4660-42ee-b414-803a207728ae\">\n",
              "    <div class=\"colab-df-container\">\n",
              "      <div>\n",
              "<style scoped>\n",
              "    .dataframe tbody tr th:only-of-type {\n",
              "        vertical-align: middle;\n",
              "    }\n",
              "\n",
              "    .dataframe tbody tr th {\n",
              "        vertical-align: top;\n",
              "    }\n",
              "\n",
              "    .dataframe thead th {\n",
              "        text-align: right;\n",
              "    }\n",
              "</style>\n",
              "<table border=\"1\" class=\"dataframe\">\n",
              "  <thead>\n",
              "    <tr style=\"text-align: right;\">\n",
              "      <th></th>\n",
              "      <th>zipcode</th>\n",
              "      <th>airbnb_price_mean</th>\n",
              "      <th>airbnb_record_count</th>\n",
              "      <th>airbnb_weekly_price_mean</th>\n",
              "      <th>airbnb_monthly_price_mean</th>\n",
              "    </tr>\n",
              "  </thead>\n",
              "  <tbody>\n",
              "    <tr>\n",
              "      <th>0</th>\n",
              "      <td>2010.0</td>\n",
              "      <td>40.000000</td>\n",
              "      <td>1</td>\n",
              "      <td>NaN</td>\n",
              "      <td>NaN</td>\n",
              "    </tr>\n",
              "    <tr>\n",
              "      <th>1</th>\n",
              "      <td>2134.0</td>\n",
              "      <td>50.000000</td>\n",
              "      <td>1</td>\n",
              "      <td>NaN</td>\n",
              "      <td>NaN</td>\n",
              "    </tr>\n",
              "    <tr>\n",
              "      <th>2</th>\n",
              "      <td>2582.0</td>\n",
              "      <td>104.000000</td>\n",
              "      <td>1</td>\n",
              "      <td>NaN</td>\n",
              "      <td>NaN</td>\n",
              "    </tr>\n",
              "    <tr>\n",
              "      <th>3</th>\n",
              "      <td>3000.0</td>\n",
              "      <td>150.504307</td>\n",
              "      <td>3367</td>\n",
              "      <td>918.738956</td>\n",
              "      <td>3407.204651</td>\n",
              "    </tr>\n",
              "    <tr>\n",
              "      <th>4</th>\n",
              "      <td>3001.0</td>\n",
              "      <td>132.500000</td>\n",
              "      <td>2</td>\n",
              "      <td>NaN</td>\n",
              "      <td>NaN</td>\n",
              "    </tr>\n",
              "  </tbody>\n",
              "</table>\n",
              "</div>\n",
              "      <button class=\"colab-df-convert\" onclick=\"convertToInteractive('df-2cc62f9f-4660-42ee-b414-803a207728ae')\"\n",
              "              title=\"Convert this dataframe to an interactive table.\"\n",
              "              style=\"display:none;\">\n",
              "        \n",
              "  <svg xmlns=\"http://www.w3.org/2000/svg\" height=\"24px\"viewBox=\"0 0 24 24\"\n",
              "       width=\"24px\">\n",
              "    <path d=\"M0 0h24v24H0V0z\" fill=\"none\"/>\n",
              "    <path d=\"M18.56 5.44l.94 2.06.94-2.06 2.06-.94-2.06-.94-.94-2.06-.94 2.06-2.06.94zm-11 1L8.5 8.5l.94-2.06 2.06-.94-2.06-.94L8.5 2.5l-.94 2.06-2.06.94zm10 10l.94 2.06.94-2.06 2.06-.94-2.06-.94-.94-2.06-.94 2.06-2.06.94z\"/><path d=\"M17.41 7.96l-1.37-1.37c-.4-.4-.92-.59-1.43-.59-.52 0-1.04.2-1.43.59L10.3 9.45l-7.72 7.72c-.78.78-.78 2.05 0 2.83L4 21.41c.39.39.9.59 1.41.59.51 0 1.02-.2 1.41-.59l7.78-7.78 2.81-2.81c.8-.78.8-2.07 0-2.86zM5.41 20L4 18.59l7.72-7.72 1.47 1.35L5.41 20z\"/>\n",
              "  </svg>\n",
              "      </button>\n",
              "      \n",
              "  <style>\n",
              "    .colab-df-container {\n",
              "      display:flex;\n",
              "      flex-wrap:wrap;\n",
              "      gap: 12px;\n",
              "    }\n",
              "\n",
              "    .colab-df-convert {\n",
              "      background-color: #E8F0FE;\n",
              "      border: none;\n",
              "      border-radius: 50%;\n",
              "      cursor: pointer;\n",
              "      display: none;\n",
              "      fill: #1967D2;\n",
              "      height: 32px;\n",
              "      padding: 0 0 0 0;\n",
              "      width: 32px;\n",
              "    }\n",
              "\n",
              "    .colab-df-convert:hover {\n",
              "      background-color: #E2EBFA;\n",
              "      box-shadow: 0px 1px 2px rgba(60, 64, 67, 0.3), 0px 1px 3px 1px rgba(60, 64, 67, 0.15);\n",
              "      fill: #174EA6;\n",
              "    }\n",
              "\n",
              "    [theme=dark] .colab-df-convert {\n",
              "      background-color: #3B4455;\n",
              "      fill: #D2E3FC;\n",
              "    }\n",
              "\n",
              "    [theme=dark] .colab-df-convert:hover {\n",
              "      background-color: #434B5C;\n",
              "      box-shadow: 0px 1px 3px 1px rgba(0, 0, 0, 0.15);\n",
              "      filter: drop-shadow(0px 1px 2px rgba(0, 0, 0, 0.3));\n",
              "      fill: #FFFFFF;\n",
              "    }\n",
              "  </style>\n",
              "\n",
              "      <script>\n",
              "        const buttonEl =\n",
              "          document.querySelector('#df-2cc62f9f-4660-42ee-b414-803a207728ae button.colab-df-convert');\n",
              "        buttonEl.style.display =\n",
              "          google.colab.kernel.accessAllowed ? 'block' : 'none';\n",
              "\n",
              "        async function convertToInteractive(key) {\n",
              "          const element = document.querySelector('#df-2cc62f9f-4660-42ee-b414-803a207728ae');\n",
              "          const dataTable =\n",
              "            await google.colab.kernel.invokeFunction('convertToInteractive',\n",
              "                                                     [key], {});\n",
              "          if (!dataTable) return;\n",
              "\n",
              "          const docLinkHtml = 'Like what you see? Visit the ' +\n",
              "            '<a target=\"_blank\" href=https://colab.research.google.com/notebooks/data_table.ipynb>data table notebook</a>'\n",
              "            + ' to learn more about interactive tables.';\n",
              "          element.innerHTML = '';\n",
              "          dataTable['output_type'] = 'display_data';\n",
              "          await google.colab.output.renderOutput(dataTable, element);\n",
              "          const docLink = document.createElement('div');\n",
              "          docLink.innerHTML = docLinkHtml;\n",
              "          element.appendChild(docLink);\n",
              "        }\n",
              "      </script>\n",
              "    </div>\n",
              "  </div>\n",
              "  "
            ]
          },
          "metadata": {},
          "execution_count": 134
        }
      ]
    },
    {
      "cell_type": "code",
      "source": [
        "airbnb_price_by_zipcode.to_sql('Metrica', con=engine, if_exists=\"replace\")"
      ],
      "metadata": {
        "colab": {
          "base_uri": "https://localhost:8080/"
        },
        "id": "_9pupiernDdG",
        "outputId": "f62da7e4-7722-491e-a81b-24d83a095a96"
      },
      "id": "_9pupiernDdG",
      "execution_count": 135,
      "outputs": [
        {
          "output_type": "stream",
          "name": "stdout",
          "text": [
            "2022-05-15 03:21:40,326 INFO sqlalchemy.engine.Engine PRAGMA main.table_info(\"Metrica\")\n",
            "2022-05-15 03:21:40,331 INFO sqlalchemy.engine.Engine [raw sql] ()\n",
            "2022-05-15 03:21:40,334 INFO sqlalchemy.engine.Engine PRAGMA main.table_info(\"Metrica\")\n",
            "2022-05-15 03:21:40,337 INFO sqlalchemy.engine.Engine [raw sql] ()\n",
            "2022-05-15 03:21:40,340 INFO sqlalchemy.engine.Engine SELECT name FROM sqlite_master WHERE type='table' ORDER BY name\n",
            "2022-05-15 03:21:40,343 INFO sqlalchemy.engine.Engine [raw sql] ()\n",
            "2022-05-15 03:21:40,347 INFO sqlalchemy.engine.Engine PRAGMA main.table_info(\"Metrica\")\n",
            "2022-05-15 03:21:40,350 INFO sqlalchemy.engine.Engine [raw sql] ()\n",
            "2022-05-15 03:21:40,353 INFO sqlalchemy.engine.Engine SELECT sql FROM  (SELECT * FROM sqlite_master UNION ALL   SELECT * FROM sqlite_temp_master) WHERE name = ? AND type = 'table'\n",
            "2022-05-15 03:21:40,355 INFO sqlalchemy.engine.Engine [raw sql] ('Metrica',)\n",
            "2022-05-15 03:21:40,358 INFO sqlalchemy.engine.Engine PRAGMA main.foreign_key_list(\"Metrica\")\n",
            "2022-05-15 03:21:40,360 INFO sqlalchemy.engine.Engine [raw sql] ()\n",
            "2022-05-15 03:21:40,361 INFO sqlalchemy.engine.Engine PRAGMA temp.foreign_key_list(\"Metrica\")\n",
            "2022-05-15 03:21:40,363 INFO sqlalchemy.engine.Engine [raw sql] ()\n",
            "2022-05-15 03:21:40,364 INFO sqlalchemy.engine.Engine SELECT sql FROM  (SELECT * FROM sqlite_master UNION ALL   SELECT * FROM sqlite_temp_master) WHERE name = ? AND type = 'table'\n",
            "2022-05-15 03:21:40,366 INFO sqlalchemy.engine.Engine [raw sql] ('Metrica',)\n",
            "2022-05-15 03:21:40,368 INFO sqlalchemy.engine.Engine PRAGMA main.index_list(\"Metrica\")\n",
            "2022-05-15 03:21:40,369 INFO sqlalchemy.engine.Engine [raw sql] ()\n",
            "2022-05-15 03:21:40,371 INFO sqlalchemy.engine.Engine PRAGMA main.index_info(\"ix_Metrica_index\")\n",
            "2022-05-15 03:21:40,372 INFO sqlalchemy.engine.Engine [raw sql] ()\n",
            "2022-05-15 03:21:40,374 INFO sqlalchemy.engine.Engine PRAGMA main.index_list(\"Metrica\")\n",
            "2022-05-15 03:21:40,376 INFO sqlalchemy.engine.Engine [raw sql] ()\n",
            "2022-05-15 03:21:40,377 INFO sqlalchemy.engine.Engine PRAGMA main.index_info(\"ix_Metrica_index\")\n",
            "2022-05-15 03:21:40,379 INFO sqlalchemy.engine.Engine [raw sql] ()\n",
            "2022-05-15 03:21:40,381 INFO sqlalchemy.engine.Engine SELECT sql FROM  (SELECT * FROM sqlite_master UNION ALL   SELECT * FROM sqlite_temp_master) WHERE name = ? AND type = 'table'\n",
            "2022-05-15 03:21:40,382 INFO sqlalchemy.engine.Engine [raw sql] ('Metrica',)\n",
            "2022-05-15 03:21:40,385 INFO sqlalchemy.engine.Engine BEGIN (implicit)\n",
            "2022-05-15 03:21:40,386 INFO sqlalchemy.engine.Engine \n",
            "DROP TABLE \"Metrica\"\n",
            "2022-05-15 03:21:40,388 INFO sqlalchemy.engine.Engine [no key 0.00121s] ()\n",
            "2022-05-15 03:21:40,398 INFO sqlalchemy.engine.Engine COMMIT\n",
            "2022-05-15 03:21:40,402 INFO sqlalchemy.engine.Engine BEGIN (implicit)\n",
            "2022-05-15 03:21:40,405 INFO sqlalchemy.engine.Engine \n",
            "CREATE TABLE \"Metrica\" (\n",
            "\t\"index\" BIGINT, \n",
            "\tzipcode FLOAT, \n",
            "\tairbnb_price_mean FLOAT, \n",
            "\tairbnb_record_count BIGINT, \n",
            "\tairbnb_weekly_price_mean FLOAT, \n",
            "\tairbnb_monthly_price_mean FLOAT\n",
            ")\n",
            "\n",
            "\n",
            "2022-05-15 03:21:40,407 INFO sqlalchemy.engine.Engine [no key 0.00192s] ()\n",
            "2022-05-15 03:21:40,417 INFO sqlalchemy.engine.Engine CREATE INDEX \"ix_Metrica_index\" ON \"Metrica\" (\"index\")\n",
            "2022-05-15 03:21:40,419 INFO sqlalchemy.engine.Engine [no key 0.00190s] ()\n",
            "2022-05-15 03:21:40,429 INFO sqlalchemy.engine.Engine COMMIT\n",
            "2022-05-15 03:21:40,434 INFO sqlalchemy.engine.Engine BEGIN (implicit)\n",
            "2022-05-15 03:21:40,445 INFO sqlalchemy.engine.Engine INSERT INTO \"Metrica\" (\"index\", zipcode, airbnb_price_mean, airbnb_record_count, airbnb_weekly_price_mean, airbnb_monthly_price_mean) VALUES (?, ?, ?, ?, ?, ?)\n",
            "2022-05-15 03:21:40,452 INFO sqlalchemy.engine.Engine [generated in 0.01264s] ((0, 2010.0, 40.0, 1, None, None), (1, 2134.0, 50.0, 1, None, None), (2, 2582.0, 104.0, 1, None, None), (3, 3000.0, 150.5043065043065, 3367, 918.7389558232932, 3407.204651162791), (4, 3001.0, 132.5, 2, None, None), (5, 3002.0, 200.9796954314721, 197, 956.3793103448276, 3712.714285714286), (6, 3003.0, 130.20599250936328, 267, 760.2, 2629.5), (7, 3004.0, 158.27197802197801, 728, 1061.1714285714286, 3759.925925925926)  ... displaying 10 of 247 total bound parameter sets ...  (245, 9540.0, 245.0, 1, None, None), (246, 30122.0, 75.0, 1, 525.0, 2281.0))\n",
            "2022-05-15 03:21:40,457 INFO sqlalchemy.engine.Engine COMMIT\n",
            "2022-05-15 03:21:40,469 INFO sqlalchemy.engine.Engine SELECT name FROM sqlite_master WHERE type='table' ORDER BY name\n",
            "2022-05-15 03:21:40,470 INFO sqlalchemy.engine.Engine [raw sql] ()\n"
          ]
        }
      ]
    },
    {
      "cell_type": "markdown",
      "source": [
        "Generamos y ejecutamos la sentencia de SQL para unir mediante LEFT JOIN las tablas \"Melbo\" y \"Métricas\" (generada a partir del Dataset de Airbnb.\n",
        "\n",
        "Primeramente ejecutamos un conteo de registros del Leftjoin (Desde tabla Melbo) para comparar y controlar la cantidad de registros de la tabla resultante:"
      ],
      "metadata": {
        "id": "8WuLtly7wdfM"
      },
      "id": "8WuLtly7wdfM"
    },
    {
      "cell_type": "code",
      "source": [
        "query3 = \"SELECT COUNT() FROM Melbo LEFT JOIN Metrica ON Metrica.zipcode=Melbo.Postcode\""
      ],
      "metadata": {
        "id": "HRZ5ABlcnyXW"
      },
      "id": "HRZ5ABlcnyXW",
      "execution_count": 153,
      "outputs": []
    },
    {
      "cell_type": "code",
      "source": [
        "with engine.connect() as con:\n",
        "      rs = con.execute(query3)\n",
        "      print(query3)\n",
        "      for row in rs:\n",
        "          print(row)"
      ],
      "metadata": {
        "colab": {
          "base_uri": "https://localhost:8080/"
        },
        "id": "kb-zsQE_nxrl",
        "outputId": "7c8274c4-ffe8-4f95-cc2e-6065791bd2ec"
      },
      "id": "kb-zsQE_nxrl",
      "execution_count": 155,
      "outputs": [
        {
          "output_type": "stream",
          "name": "stdout",
          "text": [
            "2022-05-15 03:29:46,254 INFO sqlalchemy.engine.Engine SELECT COUNT() FROM Melbo LEFT JOIN Metrica ON Metrica.zipcode=Melbo.Postcode\n",
            "2022-05-15 03:29:46,256 INFO sqlalchemy.engine.Engine [raw sql] ()\n",
            "SELECT COUNT() FROM Melbo LEFT JOIN Metrica ON Metrica.zipcode=Melbo.Postcode\n",
            "(13580,)\n"
          ]
        }
      ]
    },
    {
      "cell_type": "code",
      "source": [
        "len(melb_df)"
      ],
      "metadata": {
        "colab": {
          "base_uri": "https://localhost:8080/"
        },
        "id": "9jYWkmBGwGZE",
        "outputId": "9e0bbbd0-5d68-4891-e410-5803c91a6a3d"
      },
      "id": "9jYWkmBGwGZE",
      "execution_count": 152,
      "outputs": [
        {
          "output_type": "execute_result",
          "data": {
            "text/plain": [
              "13580"
            ]
          },
          "metadata": {},
          "execution_count": 152
        }
      ]
    },
    {
      "cell_type": "code",
      "source": [
        "query4 = \"SELECT * FROM Melbo LEFT JOIN Metrica ON Metrica.zipcode=Melbo.Postcode\""
      ],
      "metadata": {
        "id": "-t3b__qPxPkc"
      },
      "id": "-t3b__qPxPkc",
      "execution_count": 166,
      "outputs": []
    },
    {
      "cell_type": "code",
      "source": [
        "# with engine.connect() as con:\n",
        "#     rs = con.execute(query4)\n",
        "#     print(query4)\n",
        "#     for row in rs:\n",
        "#        print(row)"
      ],
      "metadata": {
        "id": "H_wyBK3jxSmn"
      },
      "id": "H_wyBK3jxSmn",
      "execution_count": 164,
      "outputs": []
    },
    {
      "cell_type": "markdown",
      "id": "c5468c4f-5cdf-4df4-a317-60e1fb0c00db",
      "metadata": {
        "id": "c5468c4f-5cdf-4df4-a317-60e1fb0c00db"
      },
      "source": [
        "## Ejercicio 2: \n",
        "\n",
        "1. Seleccionar un subconjunto de columnas que les parezcan relevantes al problema de predicción del valor de la propiedad. Justificar las columnas seleccionadas y las que no lo fueron.\n",
        " - Eliminar los valores extremos que no sean relevantes para la predicción de valores de las propiedades.\n",
        "\n",
        "2. Agregar información adicional respectiva al entorno de una propiedad a partir del [conjunto de datos de AirBnB](https://www.kaggle.com/tylerx/melbourne-airbnb-open-data?select=cleansed_listings_dec18.csv) utilizado en el práctico. \n",
        "  1. Seleccionar qué variables agregar y qué combinaciones aplicar a cada una. Por ejemplo, pueden utilizar solo la columna `price`, o aplicar múltiples transformaciones como la mediana o el mínimo.\n",
        "  1. Utilizar la variable zipcode para unir los conjuntos de datos. Sólo incluir los zipcodes que tengan una cantidad mínima de registros (a elección) como para que la información agregada sea relevante.\n",
        "  2. Investigar al menos otras 2 variables que puedan servir para combinar los datos, y justificar si serían adecuadas o no. Pueden asumir que cuentan con la ayuda de anotadores expertos para encontrar equivalencias entre barrios o direcciones, o que cuentan con algoritmos para encontrar las n ubicaciones más cercanas a una propiedad a partir de sus coordenadas geográficas. **NO** es necesario que realicen la implementación.\n",
        "\n",
        "Pueden leer otras columnas del conjunto de AirBnB además de las que están en `interesting_cols`, si les parecen relevantes."
      ]
    },
    {
      "cell_type": "markdown",
      "id": "c5303f27-3b15-441b-b291-8caf1c734139",
      "metadata": {
        "id": "c5303f27-3b15-441b-b291-8caf1c734139"
      },
      "source": [
        "## Ejercicio 3:\n",
        "\n",
        "Crear y guardar un nuevo conjunto de datos con todas las transformaciones realizadas anteriormente."
      ]
    },
    {
      "cell_type": "markdown",
      "id": "abfd3eeb-d466-424b-b58e-d1364ac39206",
      "metadata": {
        "id": "abfd3eeb-d466-424b-b58e-d1364ac39206"
      },
      "source": [
        "## Ejercicios opcionales:\n",
        "\n",
        "1. Armar un script en python (archivo .py) [ETL](https://towardsdatascience.com/what-to-log-from-python-etl-pipelines-9e0cfe29950e) que corra los pasos de extraccion, transformacion y carga, armando una funcion para cada etapa del proceso y luego un main que corra todos los pasos requeridos.\n",
        "\n",
        "2. Armar un DAG en Apache Airflow que corra el ETL. (https://airflow.apache.org/docs/apache-airflow/stable/tutorial.html)"
      ]
    },
    {
      "cell_type": "code",
      "execution_count": null,
      "id": "5d210b95-836f-45ac-a52d-1a4dafdb447a",
      "metadata": {
        "id": "5d210b95-836f-45ac-a52d-1a4dafdb447a"
      },
      "outputs": [],
      "source": [
        ""
      ]
    }
  ],
  "metadata": {
    "kernelspec": {
      "display_name": "Python 3",
      "language": "python",
      "name": "python3"
    },
    "language_info": {
      "codemirror_mode": {
        "name": "ipython",
        "version": 3
      },
      "file_extension": ".py",
      "mimetype": "text/x-python",
      "name": "python",
      "nbconvert_exporter": "python",
      "pygments_lexer": "ipython3",
      "version": "3.8.8"
    },
    "colab": {
      "name": "Entregable_parte_1_22.ipynb",
      "provenance": [],
      "collapsed_sections": [],
      "include_colab_link": true
    }
  },
  "nbformat": 4,
  "nbformat_minor": 5
}